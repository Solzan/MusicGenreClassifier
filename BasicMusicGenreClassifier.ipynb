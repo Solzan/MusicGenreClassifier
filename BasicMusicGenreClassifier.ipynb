{
 "cells": [
  {
   "cell_type": "code",
   "execution_count": 1,
   "metadata": {
    "scrolled": true
   },
   "outputs": [],
   "source": [
    "import tensorflow as tf\n",
    "import tensorflow.keras as keras\n",
    "import librosa\n",
    "import librosa.feature\n",
    "import glob\n",
    "import numpy as np\n",
    "from utils import load_data"
   ]
  },
  {
   "cell_type": "markdown",
   "metadata": {},
   "source": [
    "## Data preprocessing"
   ]
  },
  {
   "cell_type": "code",
   "execution_count": 2,
   "metadata": {},
   "outputs": [],
   "source": [
    "trainX, trainY, validationX, validationY, testX, testY = load_data()"
   ]
  },
  {
   "cell_type": "code",
   "execution_count": 4,
   "metadata": {},
   "outputs": [],
   "source": [
    "#Reshaping into (batch_size, height, width, channels)\n",
    "trainX = trainX.reshape((trainX.shape[0], trainX.shape[1], trainX.shape[2], 1))\n",
    "validationX = validationX.reshape((validationX.shape[0], validationX.shape[1], validationX.shape[2], 1))\n",
    "testX = testX.reshape((testX.shape[0], testX.shape[1], testX.shape[2], 1))\n"
   ]
  },
  {
   "cell_type": "code",
   "execution_count": 37,
   "metadata": {},
   "outputs": [
    {
     "data": {
      "text/plain": [
       "(14712, 5)"
      ]
     },
     "execution_count": 37,
     "metadata": {},
     "output_type": "execute_result"
    }
   ],
   "source": [
    "trainX.shape\n",
    "trainY.shape"
   ]
  },
  {
   "cell_type": "markdown",
   "metadata": {},
   "source": [
    "## Basic CNN"
   ]
  },
  {
   "cell_type": "code",
   "execution_count": 6,
   "metadata": {},
   "outputs": [],
   "source": [
    "indim_x = 128\n",
    "indim_y = 320"
   ]
  },
  {
   "cell_type": "code",
   "execution_count": 52,
   "metadata": {},
   "outputs": [],
   "source": [
    "CNN_model = tf.keras.models.Sequential([\n",
    "  tf.keras.layers.Conv2D(16, (3, 3), activation='relu', input_shape=(indim_x, indim_y,1)),\n",
    "  tf.keras.layers.MaxPooling2D(2, 2),\n",
    "  tf.keras.layers.Dropout(0.2),\n",
    "  tf.keras.layers.Conv2D(8, (3, 3), activation='relu'),\n",
    "  tf.keras.layers.MaxPooling2D(2,2), \n",
    "  tf.keras.layers.Dropout(0.2),\n",
    "  tf.keras.layers.Flatten(),\n",
    "  tf.keras.layers.Dense(100, activation='relu'),\n",
    "  tf.keras.layers.Dense(5, activation='softmax')\n",
    "])"
   ]
  },
  {
   "cell_type": "code",
   "execution_count": 53,
   "metadata": {},
   "outputs": [
    {
     "name": "stdout",
     "output_type": "stream",
     "text": [
      "Model: \"sequential_12\"\n",
      "_________________________________________________________________\n",
      "Layer (type)                 Output Shape              Param #   \n",
      "=================================================================\n",
      "conv2d_24 (Conv2D)           (None, 126, 318, 16)      160       \n",
      "_________________________________________________________________\n",
      "max_pooling2d_24 (MaxPooling (None, 63, 159, 16)       0         \n",
      "_________________________________________________________________\n",
      "dropout_8 (Dropout)          (None, 63, 159, 16)       0         \n",
      "_________________________________________________________________\n",
      "conv2d_25 (Conv2D)           (None, 61, 157, 8)        1160      \n",
      "_________________________________________________________________\n",
      "max_pooling2d_25 (MaxPooling (None, 30, 78, 8)         0         \n",
      "_________________________________________________________________\n",
      "dropout_9 (Dropout)          (None, 30, 78, 8)         0         \n",
      "_________________________________________________________________\n",
      "flatten_12 (Flatten)         (None, 18720)             0         \n",
      "_________________________________________________________________\n",
      "dense_22 (Dense)             (None, 100)               1872100   \n",
      "_________________________________________________________________\n",
      "dense_23 (Dense)             (None, 5)                 505       \n",
      "=================================================================\n",
      "Total params: 1,873,925\n",
      "Trainable params: 1,873,925\n",
      "Non-trainable params: 0\n",
      "_________________________________________________________________\n"
     ]
    }
   ],
   "source": [
    "CNN_model.compile(optimizer='adam', loss='categorical_crossentropy', metrics=['accuracy'])\n",
    "CNN_model.summary()"
   ]
  },
  {
   "cell_type": "code",
   "execution_count": 54,
   "metadata": {},
   "outputs": [
    {
     "name": "stdout",
     "output_type": "stream",
     "text": [
      "Train on 14712 samples, validate on 1769 samples\n",
      "Epoch 1/25\n",
      "14712/14712 [==============================] - 13s 867us/sample - loss: 16.8621 - accuracy: 0.3321 - val_loss: 1.5583 - val_accuracy: 0.3550\n",
      "Epoch 2/25\n",
      "14712/14712 [==============================] - 12s 809us/sample - loss: 1.3687 - accuracy: 0.4383 - val_loss: 1.4776 - val_accuracy: 0.3816\n",
      "Epoch 3/25\n",
      "14712/14712 [==============================] - 12s 799us/sample - loss: 1.2367 - accuracy: 0.5064 - val_loss: 1.4313 - val_accuracy: 0.3968\n",
      "Epoch 4/25\n",
      "14712/14712 [==============================] - 12s 800us/sample - loss: 1.1440 - accuracy: 0.5546 - val_loss: 1.3939 - val_accuracy: 0.4093\n",
      "Epoch 5/25\n",
      "14712/14712 [==============================] - 12s 805us/sample - loss: 1.0890 - accuracy: 0.5782 - val_loss: 1.3797 - val_accuracy: 0.4228\n",
      "Epoch 6/25\n",
      "14712/14712 [==============================] - 12s 808us/sample - loss: 1.0476 - accuracy: 0.5961 - val_loss: 1.3473 - val_accuracy: 0.4415\n",
      "Epoch 7/25\n",
      "14712/14712 [==============================] - 12s 790us/sample - loss: 1.0146 - accuracy: 0.6168 - val_loss: 1.3179 - val_accuracy: 0.4618\n",
      "Epoch 8/25\n",
      "14712/14712 [==============================] - 12s 797us/sample - loss: 0.9670 - accuracy: 0.6339 - val_loss: 1.2842 - val_accuracy: 0.4754\n",
      "Epoch 9/25\n",
      "14712/14712 [==============================] - 12s 795us/sample - loss: 0.9316 - accuracy: 0.6474 - val_loss: 1.2376 - val_accuracy: 0.4952\n",
      "Epoch 10/25\n",
      "14712/14712 [==============================] - 12s 795us/sample - loss: 0.8974 - accuracy: 0.6648 - val_loss: 1.2132 - val_accuracy: 0.5025\n",
      "Epoch 11/25\n",
      "14712/14712 [==============================] - 12s 786us/sample - loss: 0.8549 - accuracy: 0.6813 - val_loss: 1.1905 - val_accuracy: 0.5336\n",
      "Epoch 12/25\n",
      "14712/14712 [==============================] - 12s 783us/sample - loss: 0.8429 - accuracy: 0.6864 - val_loss: 1.1613 - val_accuracy: 0.5387\n",
      "Epoch 13/25\n",
      "14712/14712 [==============================] - 12s 782us/sample - loss: 0.8004 - accuracy: 0.7043 - val_loss: 1.1512 - val_accuracy: 0.5410\n",
      "Epoch 14/25\n",
      "14712/14712 [==============================] - 11s 781us/sample - loss: 0.7836 - accuracy: 0.7067 - val_loss: 1.1489 - val_accuracy: 0.5404\n",
      "Epoch 15/25\n",
      "14712/14712 [==============================] - 12s 783us/sample - loss: 0.7507 - accuracy: 0.7200 - val_loss: 1.1419 - val_accuracy: 0.5551\n",
      "Epoch 16/25\n",
      "14712/14712 [==============================] - 12s 790us/sample - loss: 0.7178 - accuracy: 0.7323 - val_loss: 1.0895 - val_accuracy: 0.5851\n",
      "Epoch 17/25\n",
      "14712/14712 [==============================] - 12s 783us/sample - loss: 0.6965 - accuracy: 0.7392 - val_loss: 1.1354 - val_accuracy: 0.5732\n",
      "Epoch 18/25\n",
      "14712/14712 [==============================] - 12s 783us/sample - loss: 0.6763 - accuracy: 0.7488 - val_loss: 1.0970 - val_accuracy: 0.5828\n",
      "Epoch 19/25\n",
      "14712/14712 [==============================] - 12s 786us/sample - loss: 0.6516 - accuracy: 0.7535 - val_loss: 1.1236 - val_accuracy: 0.5834\n",
      "Epoch 20/25\n",
      "14712/14712 [==============================] - 12s 790us/sample - loss: 0.6228 - accuracy: 0.7659 - val_loss: 1.1028 - val_accuracy: 0.6003\n",
      "Epoch 21/25\n",
      "14712/14712 [==============================] - 12s 783us/sample - loss: 0.5879 - accuracy: 0.7795 - val_loss: 1.1697 - val_accuracy: 0.5828\n",
      "Epoch 22/25\n",
      "14712/14712 [==============================] - 12s 785us/sample - loss: 0.5557 - accuracy: 0.7907 - val_loss: 1.1038 - val_accuracy: 0.5868\n",
      "Epoch 23/25\n",
      "14712/14712 [==============================] - 12s 791us/sample - loss: 0.5356 - accuracy: 0.8020 - val_loss: 1.1236 - val_accuracy: 0.5986\n",
      "Epoch 24/25\n",
      "14712/14712 [==============================] - 12s 788us/sample - loss: 0.5228 - accuracy: 0.8066 - val_loss: 1.1208 - val_accuracy: 0.6032\n",
      "Epoch 25/25\n",
      "14712/14712 [==============================] - 12s 787us/sample - loss: 0.4958 - accuracy: 0.8129 - val_loss: 1.1428 - val_accuracy: 0.6139\n"
     ]
    },
    {
     "data": {
      "text/plain": [
       "<tensorflow.python.keras.callbacks.History at 0x2b6984cfc48>"
      ]
     },
     "execution_count": 54,
     "metadata": {},
     "output_type": "execute_result"
    }
   ],
   "source": [
    "CNN_model.fit(trainX, trainY, batch_size = 128, validation_data=(validationX, validationY), epochs=25)"
   ]
  },
  {
   "cell_type": "code",
   "execution_count": 56,
   "metadata": {},
   "outputs": [
    {
     "name": "stdout",
     "output_type": "stream",
     "text": [
      "1685/1 - 1s - loss: 0.9238 - accuracy: 0.6617\n"
     ]
    },
    {
     "data": {
      "text/plain": [
       "[0.996642955226785, 0.66172105]"
      ]
     },
     "execution_count": 56,
     "metadata": {},
     "output_type": "execute_result"
    }
   ],
   "source": [
    "CNN_model.evaluate(testX, testY, verbose=2)"
   ]
  },
  {
   "cell_type": "code",
   "execution_count": null,
   "metadata": {},
   "outputs": [],
   "source": []
  }
 ],
 "metadata": {
  "kernelspec": {
   "display_name": "Python 3.7 (tensorflow)",
   "language": "python",
   "name": "tensorflow"
  },
  "language_info": {
   "codemirror_mode": {
    "name": "ipython",
    "version": 3
   },
   "file_extension": ".py",
   "mimetype": "text/x-python",
   "name": "python",
   "nbconvert_exporter": "python",
   "pygments_lexer": "ipython3",
   "version": "3.7.6"
  }
 },
 "nbformat": 4,
 "nbformat_minor": 4
}
