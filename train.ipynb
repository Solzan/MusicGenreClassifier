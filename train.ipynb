{
 "cells": [
  {
   "cell_type": "code",
   "execution_count": 36,
   "metadata": {
    "scrolled": true
   },
   "outputs": [],
   "source": [
    "import tensorflow as tf\n",
    "import tensorflow.keras as keras\n",
    "import librosa\n",
    "import librosa.feature\n",
    "import glob\n",
    "import os\n",
    "import numpy as np\n",
    "from utils import load_data\n",
    "from models import simple_cnn\n",
    "from models import crnn\n",
    "from sklearn.metrics import classification_report\n",
    "from sklearn.metrics import confusion_matrix\n",
    "from sklearn.metrics import plot_confusion_matrix\n",
    "import matplotlib.pyplot as plt\n",
    "import seaborn as sns\n",
    "import pandas as pd\n"
   ]
  },
  {
   "cell_type": "markdown",
   "metadata": {},
   "source": [
    "## Loading data"
   ]
  },
  {
   "cell_type": "code",
   "execution_count": 2,
   "metadata": {},
   "outputs": [],
   "source": [
    "trainX, trainY, validationX, validationY, testX, testY = load_data(split_into_k_equal_parts=True, k=6)"
   ]
  },
  {
   "cell_type": "code",
   "execution_count": 14,
   "metadata": {},
   "outputs": [],
   "source": [
    "#Transposing to (batch_size, time_dimension, features) for crnn\n",
    "#trainX = trainX.transpose(0,2,1)\n",
    "#validationX = validationX.transpose(0,2,1)\n",
    "#testX = testX.transpose(0,2,1)\n",
    "\n",
    "#Reshaping into (batch_size, height, width, channels) for cnn\n",
    "\n",
    "trainX = trainX.reshape((trainX.shape[0], trainX.shape[1], trainX.shape[2], 1))\n",
    "validationX = validationX.reshape((validationX.shape[0], validationX.shape[1], validationX.shape[2], 1))\n",
    "testX = testX.reshape((testX.shape[0], testX.shape[1], testX.shape[2], 1))\n",
    "\n"
   ]
  },
  {
   "cell_type": "code",
   "execution_count": 15,
   "metadata": {},
   "outputs": [
    {
     "name": "stdout",
     "output_type": "stream",
     "text": [
      "(90192, 128, 53, 1)\n",
      "(90192, 5)\n",
      "(10854, 128, 53, 1)\n",
      "(10350, 5)\n"
     ]
    }
   ],
   "source": [
    "print(trainX.shape)\n",
    "print(trainY.shape)\n",
    "print(validationX.shape)\n",
    "print(testY.shape)"
   ]
  },
  {
   "cell_type": "markdown",
   "metadata": {},
   "source": [
    "## Basic CNN"
   ]
  },
  {
   "cell_type": "code",
   "execution_count": 16,
   "metadata": {},
   "outputs": [
    {
     "data": {
      "text/plain": [
       "128"
      ]
     },
     "execution_count": 16,
     "metadata": {},
     "output_type": "execute_result"
    }
   ],
   "source": [
    "indim_x = trainX.shape[1]\n",
    "indim_y = trainX.shape[2]\n",
    "indim_x"
   ]
  },
  {
   "cell_type": "code",
   "execution_count": 27,
   "metadata": {},
   "outputs": [],
   "source": [
    "model = simple_cnn((indim_x,indim_y), conv_layers=[16, 32,48], reg_rate=0.2)"
   ]
  },
  {
   "cell_type": "code",
   "execution_count": 29,
   "metadata": {},
   "outputs": [
    {
     "name": "stdout",
     "output_type": "stream",
     "text": [
      "Model: \"sequential_1\"\n",
      "_________________________________________________________________\n",
      "Layer (type)                 Output Shape              Param #   \n",
      "=================================================================\n",
      "conv2d_3 (Conv2D)            (None, 126, 51, 16)       160       \n",
      "_________________________________________________________________\n",
      "max_pooling2d_3 (MaxPooling2 (None, 63, 25, 16)        0         \n",
      "_________________________________________________________________\n",
      "dropout_10 (Dropout)         (None, 63, 25, 16)        0         \n",
      "_________________________________________________________________\n",
      "conv2d_4 (Conv2D)            (None, 61, 23, 32)        4640      \n",
      "_________________________________________________________________\n",
      "max_pooling2d_4 (MaxPooling2 (None, 30, 11, 32)        0         \n",
      "_________________________________________________________________\n",
      "dropout_11 (Dropout)         (None, 30, 11, 32)        0         \n",
      "_________________________________________________________________\n",
      "conv2d_5 (Conv2D)            (None, 28, 9, 48)         13872     \n",
      "_________________________________________________________________\n",
      "max_pooling2d_5 (MaxPooling2 (None, 14, 4, 48)         0         \n",
      "_________________________________________________________________\n",
      "dropout_12 (Dropout)         (None, 14, 4, 48)         0         \n",
      "_________________________________________________________________\n",
      "flatten_1 (Flatten)          (None, 2688)              0         \n",
      "_________________________________________________________________\n",
      "dense_4 (Dense)              (None, 100)               268900    \n",
      "_________________________________________________________________\n",
      "dense_5 (Dense)              (None, 5)                 505       \n",
      "=================================================================\n",
      "Total params: 288,077\n",
      "Trainable params: 288,077\n",
      "Non-trainable params: 0\n",
      "_________________________________________________________________\n"
     ]
    }
   ],
   "source": [
    "model.compile(optimizer='adam', loss='categorical_crossentropy', metrics=['accuracy'])\n",
    "model.summary()"
   ]
  },
  {
   "cell_type": "code",
   "execution_count": 20,
   "metadata": {},
   "outputs": [
    {
     "name": "stdout",
     "output_type": "stream",
     "text": [
      "Train on 90192 samples, validate on 10854 samples\n",
      "Epoch 1/25\n",
      "90192/90192 [==============================] - 17s 192us/sample - loss: 0.9077 - accuracy: 0.6559 - val_loss: 0.9537 - val_accuracy: 0.6292\n",
      "Epoch 2/25\n",
      "90192/90192 [==============================] - 18s 195us/sample - loss: 0.8297 - accuracy: 0.6881 - val_loss: 0.9034 - val_accuracy: 0.6507\n",
      "Epoch 3/25\n",
      "90192/90192 [==============================] - 17s 190us/sample - loss: 0.7931 - accuracy: 0.7003 - val_loss: 0.9353 - val_accuracy: 0.6507\n",
      "Epoch 4/25\n",
      "90192/90192 [==============================] - 17s 190us/sample - loss: 0.7676 - accuracy: 0.7102 - val_loss: 0.9430 - val_accuracy: 0.6622\n",
      "Epoch 5/25\n",
      "90192/90192 [==============================] - 17s 185us/sample - loss: 0.7451 - accuracy: 0.7168 - val_loss: 0.8935 - val_accuracy: 0.6778\n",
      "Epoch 6/25\n",
      "90192/90192 [==============================] - 17s 185us/sample - loss: 0.7310 - accuracy: 0.7230 - val_loss: 0.8961 - val_accuracy: 0.6692\n",
      "Epoch 7/25\n",
      "90192/90192 [==============================] - 17s 184us/sample - loss: 0.7183 - accuracy: 0.7273 - val_loss: 0.8792 - val_accuracy: 0.6618\n",
      "Epoch 8/25\n",
      "90192/90192 [==============================] - 17s 184us/sample - loss: 0.7084 - accuracy: 0.7308 - val_loss: 0.8889 - val_accuracy: 0.6777\n",
      "Epoch 9/25\n",
      "90192/90192 [==============================] - 17s 186us/sample - loss: 0.6963 - accuracy: 0.7359 - val_loss: 0.9196 - val_accuracy: 0.6685\n",
      "Epoch 10/25\n",
      "90192/90192 [==============================] - 17s 190us/sample - loss: 0.6860 - accuracy: 0.7392 - val_loss: 0.8576 - val_accuracy: 0.6707\n",
      "Epoch 11/25\n",
      "90192/90192 [==============================] - 17s 191us/sample - loss: 0.6770 - accuracy: 0.7432 - val_loss: 0.8641 - val_accuracy: 0.6765\n",
      "Epoch 12/25\n",
      "90192/90192 [==============================] - 17s 184us/sample - loss: 0.6675 - accuracy: 0.7446 - val_loss: 0.9103 - val_accuracy: 0.6714\n",
      "Epoch 13/25\n",
      "90192/90192 [==============================] - 17s 185us/sample - loss: 0.6602 - accuracy: 0.7482 - val_loss: 0.8920 - val_accuracy: 0.6724\n",
      "Epoch 14/25\n",
      "90192/90192 [==============================] - 17s 185us/sample - loss: 0.6506 - accuracy: 0.7519 - val_loss: 0.8576 - val_accuracy: 0.6812\n",
      "Epoch 15/25\n",
      "90192/90192 [==============================] - 17s 186us/sample - loss: 0.6385 - accuracy: 0.7559 - val_loss: 0.8678 - val_accuracy: 0.6875\n",
      "Epoch 16/25\n",
      "90192/90192 [==============================] - 17s 185us/sample - loss: 0.6358 - accuracy: 0.7576 - val_loss: 0.8706 - val_accuracy: 0.6846\n",
      "Epoch 17/25\n",
      "90192/90192 [==============================] - 17s 191us/sample - loss: 0.6257 - accuracy: 0.7618 - val_loss: 0.8636 - val_accuracy: 0.6835\n",
      "Epoch 18/25\n",
      "90192/90192 [==============================] - 17s 191us/sample - loss: 0.6205 - accuracy: 0.7620 - val_loss: 0.9270 - val_accuracy: 0.6701\n",
      "Epoch 19/25\n",
      "90192/90192 [==============================] - 17s 185us/sample - loss: 0.6126 - accuracy: 0.7672 - val_loss: 0.8862 - val_accuracy: 0.6789\n",
      "Epoch 20/25\n",
      "90192/90192 [==============================] - 17s 186us/sample - loss: 0.6055 - accuracy: 0.7703 - val_loss: 0.8917 - val_accuracy: 0.6729\n",
      "Epoch 21/25\n",
      "90192/90192 [==============================] - 17s 186us/sample - loss: 0.5973 - accuracy: 0.7717 - val_loss: 0.9581 - val_accuracy: 0.6573\n",
      "Epoch 22/25\n",
      "90192/90192 [==============================] - 17s 185us/sample - loss: 0.5946 - accuracy: 0.7724 - val_loss: 0.9096 - val_accuracy: 0.6751\n",
      "Epoch 23/25\n",
      "90192/90192 [==============================] - 17s 184us/sample - loss: 0.5881 - accuracy: 0.7755 - val_loss: 0.9050 - val_accuracy: 0.6764\n",
      "Epoch 24/25\n",
      "90192/90192 [==============================] - 17s 187us/sample - loss: 0.5841 - accuracy: 0.7769 - val_loss: 0.8668 - val_accuracy: 0.6799\n",
      "Epoch 25/25\n",
      "90192/90192 [==============================] - 17s 187us/sample - loss: 0.5795 - accuracy: 0.7786 - val_loss: 0.9040 - val_accuracy: 0.6617\n"
     ]
    }
   ],
   "source": [
    "model_checkpoint_callback = tf.keras.callbacks.ModelCheckpoint(\n",
    "    filepath=\"saved_weights/model.{epoch:02d}-{val_loss:.2f}.h5\",\n",
    "    save_weights_only=False,\n",
    "    monitor='val_accuracy',\n",
    "    mode='max',\n",
    "    save_best_only=True)\n",
    "\n",
    "history = model.fit(trainX, trainY, batch_size = 128, validation_data=(validationX, validationY), epochs=25, callbacks=[model_checkpoint_callback])"
   ]
  },
  {
   "cell_type": "code",
   "execution_count": 30,
   "metadata": {},
   "outputs": [
    {
     "name": "stdout",
     "output_type": "stream",
     "text": [
      "10350/1 - 1s - loss: 0.6430 - accuracy: 0.7320\n"
     ]
    },
    {
     "data": {
      "text/plain": [
       "[0.7562958026738559, 0.7319807]"
      ]
     },
     "execution_count": 30,
     "metadata": {},
     "output_type": "execute_result"
    }
   ],
   "source": [
    "model.load_weights(\"saved_weights/model.15-0.87.h5\")\n",
    "model.evaluate(testX, testY, verbose=2)"
   ]
  },
  {
   "cell_type": "code",
   "execution_count": 31,
   "metadata": {},
   "outputs": [],
   "source": [
    "Y_Predicted = model.predict_classes(testX, verbose=0)"
   ]
  },
  {
   "cell_type": "code",
   "execution_count": 32,
   "metadata": {},
   "outputs": [
    {
     "data": {
      "text/plain": [
       "<matplotlib.legend.Legend at 0x2eef7670d88>"
      ]
     },
     "execution_count": 32,
     "metadata": {},
     "output_type": "execute_result"
    },
    {
     "data": {
      "image/png": "[encoded data removed]",
      "text/plain": [
       "<Figure size 1080x720 with 2 Axes>"
      ]
     },
     "metadata": {
      "needs_background": "light"
     },
     "output_type": "display_data"
    }
   ],
   "source": [
    "f = plt.figure(figsize=(15,10))\n",
    "plt.subplot(221)\n",
    "loss,  = plt.plot(history.history['loss'])\n",
    "val_loss, = plt.plot(history.history['val_loss'])\n",
    "plt.legend([loss, val_loss], ['loss', 'validation loss'])\n",
    "plt.subplot(222)\n",
    "acc,  = plt.plot(history.history['accuracy'])\n",
    "val_acc,  = plt.plot(history.history['val_accuracy'])\n",
    "plt.legend([loss, val_loss], ['accuracy', 'validation accuracy'])"
   ]
  },
  {
   "cell_type": "code",
   "execution_count": 33,
   "metadata": {},
   "outputs": [],
   "source": [
    "Y_True = []\n",
    "for i in testY:\n",
    "    Y_True.append(list(i).index(1))"
   ]
  },
  {
   "cell_type": "code",
   "execution_count": 34,
   "metadata": {},
   "outputs": [
    {
     "data": {
      "text/plain": [
       "<matplotlib.axes._subplots.AxesSubplot at 0x2eeebe9d608>"
      ]
     },
     "execution_count": 34,
     "metadata": {},
     "output_type": "execute_result"
    },
    {
     "data": {
      "image/png": "[encoded data removed]",
      "text/plain": [
       "<Figure size 432x288 with 2 Axes>"
      ]
     },
     "metadata": {
      "needs_background": "light"
     },
     "output_type": "display_data"
    }
   ],
   "source": [
    "target_names = ['Classical', 'Electronic', 'Pop', 'Rock', 'Hip-Hop']\n",
    "conf_matrix = pd.DataFrame(confusion_matrix(Y_True, Y_Predicted), index = target_names, columns = target_names)\n",
    "sns.heatmap(conf_matrix, annot=True, cmap='Blues', fmt='g')\n"
   ]
  },
  {
   "cell_type": "code",
   "execution_count": 35,
   "metadata": {},
   "outputs": [
    {
     "data": {
      "text/html": [
       "<div>\n",
       "<style scoped>\n",
       "    .dataframe tbody tr th:only-of-type {\n",
       "        vertical-align: middle;\n",
       "    }\n",
       "\n",
       "    .dataframe tbody tr th {\n",
       "        vertical-align: top;\n",
       "    }\n",
       "\n",
       "    .dataframe thead th {\n",
       "        text-align: right;\n",
       "    }\n",
       "</style>\n",
       "<table border=\"1\" class=\"dataframe\">\n",
       "  <thead>\n",
       "    <tr style=\"text-align: right;\">\n",
       "      <th></th>\n",
       "      <th>precision</th>\n",
       "      <th>recall</th>\n",
       "      <th>f1-score</th>\n",
       "      <th>support</th>\n",
       "    </tr>\n",
       "  </thead>\n",
       "  <tbody>\n",
       "    <tr>\n",
       "      <th>Classical</th>\n",
       "      <td>0.864679</td>\n",
       "      <td>0.653380</td>\n",
       "      <td>0.744324</td>\n",
       "      <td>577.000000</td>\n",
       "    </tr>\n",
       "    <tr>\n",
       "      <th>Electronic</th>\n",
       "      <td>0.654086</td>\n",
       "      <td>0.771650</td>\n",
       "      <td>0.708021</td>\n",
       "      <td>2448.000000</td>\n",
       "    </tr>\n",
       "    <tr>\n",
       "      <th>Pop</th>\n",
       "      <td>0.377049</td>\n",
       "      <td>0.072842</td>\n",
       "      <td>0.122097</td>\n",
       "      <td>1263.000000</td>\n",
       "    </tr>\n",
       "    <tr>\n",
       "      <th>Rock</th>\n",
       "      <td>0.771143</td>\n",
       "      <td>0.887720</td>\n",
       "      <td>0.825335</td>\n",
       "      <td>4088.000000</td>\n",
       "    </tr>\n",
       "    <tr>\n",
       "      <th>Hip-Hop</th>\n",
       "      <td>0.765414</td>\n",
       "      <td>0.804965</td>\n",
       "      <td>0.784691</td>\n",
       "      <td>1974.000000</td>\n",
       "    </tr>\n",
       "    <tr>\n",
       "      <th>accuracy</th>\n",
       "      <td>0.731981</td>\n",
       "      <td>0.731981</td>\n",
       "      <td>0.731981</td>\n",
       "      <td>0.731981</td>\n",
       "    </tr>\n",
       "    <tr>\n",
       "      <th>macro avg</th>\n",
       "      <td>0.686474</td>\n",
       "      <td>0.638111</td>\n",
       "      <td>0.636894</td>\n",
       "      <td>10350.000000</td>\n",
       "    </tr>\n",
       "    <tr>\n",
       "      <th>weighted avg</th>\n",
       "      <td>0.699488</td>\n",
       "      <td>0.731981</td>\n",
       "      <td>0.699504</td>\n",
       "      <td>10350.000000</td>\n",
       "    </tr>\n",
       "  </tbody>\n",
       "</table>\n",
       "</div>"
      ],
      "text/plain": [
       "              precision    recall  f1-score       support\n",
       "Classical      0.864679  0.653380  0.744324    577.000000\n",
       "Electronic     0.654086  0.771650  0.708021   2448.000000\n",
       "Pop            0.377049  0.072842  0.122097   1263.000000\n",
       "Rock           0.771143  0.887720  0.825335   4088.000000\n",
       "Hip-Hop        0.765414  0.804965  0.784691   1974.000000\n",
       "accuracy       0.731981  0.731981  0.731981      0.731981\n",
       "macro avg      0.686474  0.638111  0.636894  10350.000000\n",
       "weighted avg   0.699488  0.731981  0.699504  10350.000000"
      ]
     },
     "execution_count": 35,
     "metadata": {},
     "output_type": "execute_result"
    }
   ],
   "source": [
    "classification = pd.DataFrame(classification_report(Y_True, Y_Predicted,target_names=target_names, output_dict = True)).transpose()\n",
    "classification"
   ]
  },
  {
   "cell_type": "code",
   "execution_count": 96,
   "metadata": {},
   "outputs": [],
   "source": [
    "classification.to_csv(\"results_cnn.csv\")\n",
    "conf_matrix.to_csv(\"conf_matrix_cnn.csv\")"
   ]
  }
 ],
 "metadata": {
  "kernelspec": {
   "display_name": "Python 3.7 (tensorflow)",
   "language": "python",
   "name": "tensorflow"
  },
  "language_info": {
   "codemirror_mode": {
    "name": "ipython",
    "version": 3
   },
   "file_extension": ".py",
   "mimetype": "text/x-python",
   "name": "python",
   "nbconvert_exporter": "python",
   "pygments_lexer": "ipython3",
   "version": "3.7.6"
  }
 },
 "nbformat": 4,
 "nbformat_minor": 4
}
