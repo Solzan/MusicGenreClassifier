{
 "cells": [
  {
   "cell_type": "code",
   "execution_count": 2,
   "metadata": {
    "scrolled": true
   },
   "outputs": [],
   "source": [
    "import tensorflow as tf\n",
    "import tensorflow.keras as keras\n",
    "import librosa\n",
    "import librosa.feature\n",
    "import glob\n",
    "import numpy as np\n",
    "from utils import load_data\n",
    "from models import simple_cnn"
   ]
  },
  {
   "cell_type": "markdown",
   "metadata": {},
   "source": [
    "## Data preprocessing"
   ]
  },
  {
   "cell_type": "code",
   "execution_count": 7,
   "metadata": {},
   "outputs": [],
   "source": [
    "trainX, trainY, validationX, validationY, testX, testY = load_data(split_into_k_equal_parts=True, k=5)"
   ]
  },
  {
   "cell_type": "code",
   "execution_count": 8,
   "metadata": {},
   "outputs": [],
   "source": [
    "#Reshaping into (batch_size, height, width, channels)\n",
    "trainX = trainX.reshape((trainX.shape[0], trainX.shape[1], trainX.shape[2], 1))\n",
    "validationX = validationX.reshape((validationX.shape[0], validationX.shape[1], validationX.shape[2], 1))\n",
    "testX = testX.reshape((testX.shape[0], testX.shape[1], testX.shape[2], 1))\n"
   ]
  },
  {
   "cell_type": "code",
   "execution_count": 10,
   "metadata": {},
   "outputs": [
    {
     "name": "stdout",
     "output_type": "stream",
     "text": [
      "(75160, 128, 64, 1)\n",
      "(75160, 5)\n",
      "(9045, 128, 64, 1)\n",
      "(9045, 5)\n"
     ]
    }
   ],
   "source": [
    "print(trainX.shape)\n",
    "print(trainY.shape)\n",
    "print(validationX.shape)\n",
    "print(validationY.shape)"
   ]
  },
  {
   "cell_type": "markdown",
   "metadata": {},
   "source": [
    "## Basic CNN"
   ]
  },
  {
   "cell_type": "code",
   "execution_count": 11,
   "metadata": {},
   "outputs": [],
   "source": [
    "indim_x = trainX.shape[1]\n",
    "indim_y = trainX.shape[2]"
   ]
  },
  {
   "cell_type": "code",
   "execution_count": 13,
   "metadata": {},
   "outputs": [],
   "source": [
    "model = simple_cnn((indim_x,indim_y), conv_layers=[16, 8])"
   ]
  },
  {
   "cell_type": "code",
   "execution_count": 14,
   "metadata": {},
   "outputs": [
    {
     "name": "stdout",
     "output_type": "stream",
     "text": [
      "Model: \"sequential\"\n",
      "_________________________________________________________________\n",
      "Layer (type)                 Output Shape              Param #   \n",
      "=================================================================\n",
      "conv2d (Conv2D)              (None, 126, 62, 16)       160       \n",
      "_________________________________________________________________\n",
      "max_pooling2d (MaxPooling2D) (None, 63, 31, 16)        0         \n",
      "_________________________________________________________________\n",
      "dropout (Dropout)            multiple                  0         \n",
      "_________________________________________________________________\n",
      "conv2d_1 (Conv2D)            (None, 61, 29, 16)        2320      \n",
      "_________________________________________________________________\n",
      "max_pooling2d_1 (MaxPooling2 (None, 30, 14, 16)        0         \n",
      "_________________________________________________________________\n",
      "flatten (Flatten)            (None, 6720)              0         \n",
      "_________________________________________________________________\n",
      "dense (Dense)                (None, 100)               672100    \n",
      "_________________________________________________________________\n",
      "dense_1 (Dense)              (None, 5)                 505       \n",
      "=================================================================\n",
      "Total params: 675,085\n",
      "Trainable params: 675,085\n",
      "Non-trainable params: 0\n",
      "_________________________________________________________________\n"
     ]
    }
   ],
   "source": [
    "model.compile(optimizer='adam', loss='categorical_crossentropy', metrics=['accuracy'])\n",
    "model.summary()"
   ]
  },
  {
   "cell_type": "code",
   "execution_count": null,
   "metadata": {},
   "outputs": [
    {
     "name": "stdout",
     "output_type": "stream",
     "text": [
      "Train on 75160 samples, validate on 9045 samples\n",
      "Epoch 1/25\n",
      "75160/75160 [==============================] - 17s 230us/sample - loss: 2.7786 - accuracy: 0.4889 - val_loss: 1.2384 - val_accuracy: 0.5100\n",
      "Epoch 2/25\n",
      "75160/75160 [==============================] - 14s 188us/sample - loss: 1.0038 - accuracy: 0.6216 - val_loss: 1.1982 - val_accuracy: 0.5127\n",
      "Epoch 3/25\n",
      "75160/75160 [==============================] - 14s 188us/sample - loss: 0.9459 - accuracy: 0.6427 - val_loss: 1.1146 - val_accuracy: 0.5547\n",
      "Epoch 4/25\n",
      "75160/75160 [==============================] - 14s 187us/sample - loss: 0.8961 - accuracy: 0.6608 - val_loss: 1.0622 - val_accuracy: 0.5742\n",
      "Epoch 5/25\n",
      "75160/75160 [==============================] - 14s 192us/sample - loss: 0.8549 - accuracy: 0.6761 - val_loss: 1.0332 - val_accuracy: 0.5926\n",
      "Epoch 6/25\n",
      "75160/75160 [==============================] - 14s 189us/sample - loss: 0.8195 - accuracy: 0.6908 - val_loss: 0.9368 - val_accuracy: 0.6347\n",
      "Epoch 7/25\n",
      "75160/75160 [==============================] - 14s 192us/sample - loss: 0.7871 - accuracy: 0.7037 - val_loss: 0.9549 - val_accuracy: 0.6157\n",
      "Epoch 8/25\n",
      "75160/75160 [==============================] - 14s 192us/sample - loss: 0.7637 - accuracy: 0.7109 - val_loss: 0.9208 - val_accuracy: 0.6558\n",
      "Epoch 9/25\n",
      "75160/75160 [==============================] - 14s 191us/sample - loss: 0.7437 - accuracy: 0.7191 - val_loss: 0.9298 - val_accuracy: 0.6346\n",
      "Epoch 10/25\n",
      "75160/75160 [==============================] - 14s 188us/sample - loss: 0.7288 - accuracy: 0.7250 - val_loss: 0.8943 - val_accuracy: 0.6594\n",
      "Epoch 11/25\n",
      "75160/75160 [==============================] - 14s 188us/sample - loss: 0.7159 - accuracy: 0.7299 - val_loss: 0.8987 - val_accuracy: 0.6742\n",
      "Epoch 12/25\n",
      "75160/75160 [==============================] - 14s 189us/sample - loss: 0.7034 - accuracy: 0.7332 - val_loss: 0.9032 - val_accuracy: 0.6658\n",
      "Epoch 13/25\n",
      "75160/75160 [==============================] - 14s 189us/sample - loss: 0.6877 - accuracy: 0.7396 - val_loss: 0.9233 - val_accuracy: 0.6586\n",
      "Epoch 14/25\n",
      "75160/75160 [==============================] - 14s 190us/sample - loss: 0.6796 - accuracy: 0.7440 - val_loss: 0.8875 - val_accuracy: 0.6643\n",
      "Epoch 15/25\n",
      "75160/75160 [==============================] - 14s 188us/sample - loss: 0.6693 - accuracy: 0.7462 - val_loss: 0.8930 - val_accuracy: 0.6652\n",
      "Epoch 16/25\n",
      "75160/75160 [==============================] - 14s 190us/sample - loss: 0.6623 - accuracy: 0.7487 - val_loss: 0.8844 - val_accuracy: 0.6712\n",
      "Epoch 17/25\n",
      "75160/75160 [==============================] - 14s 191us/sample - loss: 0.6528 - accuracy: 0.7534 - val_loss: 0.9036 - val_accuracy: 0.6635\n",
      "Epoch 18/25\n",
      "75160/75160 [==============================] - 14s 191us/sample - loss: 0.6419 - accuracy: 0.7535 - val_loss: 0.9288 - val_accuracy: 0.6684\n",
      "Epoch 19/25\n",
      "68096/75160 [==========================>...] - ETA: 1s - loss: 0.6383 - accuracy: 0.7570"
     ]
    }
   ],
   "source": [
    "model.fit(trainX, trainY, batch_size = 128, validation_data=(validationX, validationY), epochs=25)"
   ]
  },
  {
   "cell_type": "code",
   "execution_count": 56,
   "metadata": {},
   "outputs": [
    {
     "name": "stdout",
     "output_type": "stream",
     "text": [
      "1685/1 - 1s - loss: 0.9238 - accuracy: 0.6617\n"
     ]
    },
    {
     "data": {
      "text/plain": [
       "[0.996642955226785, 0.66172105]"
      ]
     },
     "execution_count": 56,
     "metadata": {},
     "output_type": "execute_result"
    }
   ],
   "source": [
    "model.evaluate(testX, testY, verbose=2)"
   ]
  },
  {
   "cell_type": "code",
   "execution_count": null,
   "metadata": {},
   "outputs": [],
   "source": []
  }
 ],
 "metadata": {
  "kernelspec": {
   "display_name": "Python 3.7 (tensorflow)",
   "language": "python",
   "name": "tensorflow"
  },
  "language_info": {
   "codemirror_mode": {
    "name": "ipython",
    "version": 3
   },
   "file_extension": ".py",
   "mimetype": "text/x-python",
   "name": "python",
   "nbconvert_exporter": "python",
   "pygments_lexer": "ipython3",
   "version": "3.7.6"
  }
 },
 "nbformat": 4,
 "nbformat_minor": 4
}
