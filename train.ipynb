{
 "cells": [
  {
   "cell_type": "code",
   "execution_count": 2,
   "metadata": {
    "scrolled": true
   },
   "outputs": [],
   "source": [
    "import tensorflow as tf\n",
    "import tensorflow.keras as keras\n",
    "import librosa\n",
    "import librosa.feature\n",
    "import glob\n",
    "import numpy as np\n",
    "from utils import load_data\n",
    "from models import simple_cnn"
   ]
  },
  {
   "cell_type": "markdown",
   "metadata": {},
   "source": [
    "## Data preprocessing"
   ]
  },
  {
   "cell_type": "code",
   "execution_count": 4,
   "metadata": {},
   "outputs": [],
   "source": [
    "trainX, trainY, validationX, validationY, testX, testY = load_data(split_into_k_equal_parts=True, k=7)"
   ]
  },
  {
   "cell_type": "code",
   "execution_count": 5,
   "metadata": {},
   "outputs": [],
   "source": [
    "#Reshaping into (batch_size, height, width, channels)\n",
    "trainX = trainX.reshape((trainX.shape[0], trainX.shape[1], trainX.shape[2], 1))\n",
    "validationX = validationX.reshape((validationX.shape[0], validationX.shape[1], validationX.shape[2], 1))\n",
    "testX = testX.reshape((testX.shape[0], testX.shape[1], testX.shape[2], 1))\n"
   ]
  },
  {
   "cell_type": "code",
   "execution_count": 6,
   "metadata": {},
   "outputs": [
    {
     "name": "stdout",
     "output_type": "stream",
     "text": [
      "(105224, 128, 45, 1)\n",
      "(105224, 5)\n",
      "(12663, 128, 45, 1)\n",
      "(12663, 5)\n"
     ]
    }
   ],
   "source": [
    "print(trainX.shape)\n",
    "print(trainY.shape)\n",
    "print(validationX.shape)\n",
    "print(validationY.shape)"
   ]
  },
  {
   "cell_type": "markdown",
   "metadata": {},
   "source": [
    "## Basic CNN"
   ]
  },
  {
   "cell_type": "code",
   "execution_count": 7,
   "metadata": {},
   "outputs": [],
   "source": [
    "indim_x = trainX.shape[1]\n",
    "indim_y = trainX.shape[2]"
   ]
  },
  {
   "cell_type": "code",
   "execution_count": 8,
   "metadata": {},
   "outputs": [
    {
     "name": "stdout",
     "output_type": "stream",
     "text": [
      "32\n",
      "32\n",
      "48\n",
      "48\n"
     ]
    }
   ],
   "source": [
    "model = simple_cnn((indim_x,indim_y), conv_layers=[16, 32, 48])"
   ]
  },
  {
   "cell_type": "code",
   "execution_count": 9,
   "metadata": {},
   "outputs": [
    {
     "name": "stdout",
     "output_type": "stream",
     "text": [
      "Model: \"sequential\"\n",
      "_________________________________________________________________\n",
      "Layer (type)                 Output Shape              Param #   \n",
      "=================================================================\n",
      "conv2d (Conv2D)              (None, 126, 43, 16)       160       \n",
      "_________________________________________________________________\n",
      "max_pooling2d (MaxPooling2D) (None, 63, 21, 16)        0         \n",
      "_________________________________________________________________\n",
      "dropout (Dropout)            multiple                  0         \n",
      "_________________________________________________________________\n",
      "conv2d_1 (Conv2D)            (None, 61, 19, 32)        4640      \n",
      "_________________________________________________________________\n",
      "max_pooling2d_1 (MaxPooling2 (None, 30, 9, 32)         0         \n",
      "_________________________________________________________________\n",
      "conv2d_2 (Conv2D)            (None, 28, 7, 48)         13872     \n",
      "_________________________________________________________________\n",
      "max_pooling2d_2 (MaxPooling2 (None, 14, 3, 48)         0         \n",
      "_________________________________________________________________\n",
      "flatten (Flatten)            (None, 2016)              0         \n",
      "_________________________________________________________________\n",
      "dense (Dense)                (None, 100)               201700    \n",
      "_________________________________________________________________\n",
      "dense_1 (Dense)              (None, 5)                 505       \n",
      "=================================================================\n",
      "Total params: 220,877\n",
      "Trainable params: 220,877\n",
      "Non-trainable params: 0\n",
      "_________________________________________________________________\n"
     ]
    }
   ],
   "source": [
    "model.compile(optimizer='adam', loss='categorical_crossentropy', metrics=['accuracy'])\n",
    "model.summary()"
   ]
  },
  {
   "cell_type": "code",
   "execution_count": null,
   "metadata": {},
   "outputs": [
    {
     "name": "stdout",
     "output_type": "stream",
     "text": [
      "Train on 105224 samples, validate on 12663 samples\n",
      "Epoch 1/25\n",
      "105224/105224 [==============================] - 20s 189us/sample - loss: 1.3056 - accuracy: 0.5434 - val_loss: 1.0722 - val_accuracy: 0.5850\n",
      "Epoch 2/25\n",
      "105224/105224 [==============================] - 18s 169us/sample - loss: 0.9106 - accuracy: 0.6530 - val_loss: 1.0190 - val_accuracy: 0.6175\n",
      "Epoch 3/25\n",
      "105224/105224 [==============================] - 18s 171us/sample - loss: 0.8430 - accuracy: 0.6815 - val_loss: 0.9492 - val_accuracy: 0.6357\n",
      "Epoch 4/25\n",
      "105224/105224 [==============================] - 19s 178us/sample - loss: 0.8055 - accuracy: 0.6952 - val_loss: 0.9348 - val_accuracy: 0.6530\n",
      "Epoch 5/25\n",
      "105224/105224 [==============================] - 19s 179us/sample - loss: 0.7755 - accuracy: 0.7073 - val_loss: 0.9530 - val_accuracy: 0.6459\n",
      "Epoch 6/25\n",
      "105224/105224 [==============================] - 19s 179us/sample - loss: 0.7548 - accuracy: 0.7133 - val_loss: 0.9272 - val_accuracy: 0.6640\n",
      "Epoch 7/25\n",
      "105224/105224 [==============================] - 19s 179us/sample - loss: 0.7369 - accuracy: 0.7209 - val_loss: 0.9921 - val_accuracy: 0.6549\n",
      "Epoch 8/25\n",
      "105224/105224 [==============================] - 19s 177us/sample - loss: 0.7227 - accuracy: 0.7269 - val_loss: 0.9114 - val_accuracy: 0.6632\n",
      "Epoch 9/25\n",
      "105224/105224 [==============================] - 18s 176us/sample - loss: 0.7076 - accuracy: 0.7312 - val_loss: 0.8964 - val_accuracy: 0.6769\n",
      "Epoch 10/25\n",
      "105224/105224 [==============================] - 19s 176us/sample - loss: 0.6939 - accuracy: 0.7371 - val_loss: 0.8600 - val_accuracy: 0.6657\n",
      "Epoch 11/25\n",
      "105224/105224 [==============================] - 19s 176us/sample - loss: 0.6841 - accuracy: 0.7404 - val_loss: 0.9062 - val_accuracy: 0.6725\n",
      "Epoch 12/25\n",
      "105224/105224 [==============================] - 19s 178us/sample - loss: 0.6712 - accuracy: 0.7445 - val_loss: 0.9022 - val_accuracy: 0.6618\n",
      "Epoch 13/25\n",
      "105224/105224 [==============================] - 19s 177us/sample - loss: 0.6611 - accuracy: 0.7477 - val_loss: 0.9342 - val_accuracy: 0.6757\n",
      "Epoch 14/25\n",
      "105224/105224 [==============================] - 19s 179us/sample - loss: 0.6508 - accuracy: 0.7532 - val_loss: 0.8665 - val_accuracy: 0.6745\n",
      "Epoch 15/25\n",
      " 65408/105224 [=================>............] - ETA: 6s - loss: 0.6386 - accuracy: 0.7549"
     ]
    }
   ],
   "source": [
    "model.fit(trainX, trainY, batch_size = 128, validation_data=(validationX, validationY), epochs=25)"
   ]
  },
  {
   "cell_type": "code",
   "execution_count": 13,
   "metadata": {},
   "outputs": [
    {
     "name": "stdout",
     "output_type": "stream",
     "text": [
      "12075/1 - 1s - loss: 0.9087 - accuracy: 0.7320\n"
     ]
    },
    {
     "data": {
      "text/plain": [
       "[0.7319526798631341, 0.7320083]"
      ]
     },
     "execution_count": 13,
     "metadata": {},
     "output_type": "execute_result"
    }
   ],
   "source": [
    "model.evaluate(testX, testY, verbose=2)"
   ]
  },
  {
   "cell_type": "code",
   "execution_count": null,
   "metadata": {},
   "outputs": [],
   "source": []
  }
 ],
 "metadata": {
  "kernelspec": {
   "display_name": "Python 3.7 (tensorflow)",
   "language": "python",
   "name": "tensorflow"
  },
  "language_info": {
   "codemirror_mode": {
    "name": "ipython",
    "version": 3
   },
   "file_extension": ".py",
   "mimetype": "text/x-python",
   "name": "python",
   "nbconvert_exporter": "python",
   "pygments_lexer": "ipython3",
   "version": "3.7.6"
  }
 },
 "nbformat": 4,
 "nbformat_minor": 4
}
